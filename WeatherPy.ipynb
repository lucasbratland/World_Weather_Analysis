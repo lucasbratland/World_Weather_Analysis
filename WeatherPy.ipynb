{
 "cells": [
  {
   "cell_type": "code",
   "execution_count": 1,
   "id": "7b7c9780",
   "metadata": {},
   "outputs": [],
   "source": [
    "#Import Dependencies\n",
    "import pandas as pd\n",
    "import matplotlib.pyplot as plt\n",
    "import numpy as np\n",
    "from citipy import citipy \n",
    "import requests\n",
    "from config import weather_api_key\n",
    "import time\n",
    "from datetime import datetime\n"
   ]
  },
  {
   "cell_type": "code",
   "execution_count": 2,
   "id": "50f71ef2",
   "metadata": {},
   "outputs": [
    {
     "data": {
      "text/plain": [
       "<zip at 0x262af621348>"
      ]
     },
     "execution_count": 2,
     "metadata": {},
     "output_type": "execute_result"
    }
   ],
   "source": [
    "#Create a set of random latitude and longitude combinations\n",
    "lats = np.random.uniform(-90, 90, size = 15)\n",
    "lngs = np.random.uniform(-180, 180, size = 15)\n",
    "lat_lngs = zip(lats, lngs)\n",
    "lat_lngs"
   ]
  },
  {
   "cell_type": "code",
   "execution_count": 3,
   "id": "ad968170",
   "metadata": {},
   "outputs": [],
   "source": [
    "#Add longitudes and latitudes to a list\n",
    "coordinates = list(lat_lngs)"
   ]
  },
  {
   "cell_type": "code",
   "execution_count": 4,
   "id": "a0e8877d",
   "metadata": {},
   "outputs": [
    {
     "data": {
      "text/plain": [
       "15"
      ]
     },
     "execution_count": 4,
     "metadata": {},
     "output_type": "execute_result"
    }
   ],
   "source": [
    "#Create a list for holding the cities\n",
    "cities = []\n",
    "\n",
    "#Identify the nearest city for each latitude and longitude combo\n",
    "for coordinate in coordinates:\n",
    "    city = citipy.nearest_city(coordinate[0], coordinate[1]).city_name\n",
    "    \n",
    "    #If the citty is unique add it to the list\n",
    "    if city not in cities:\n",
    "        cities.append(city)\n",
    "        \n",
    "#POrint the city count\n",
    "len(cities)\n"
   ]
  },
  {
   "cell_type": "code",
   "execution_count": 5,
   "id": "46bdb332",
   "metadata": {},
   "outputs": [
    {
     "data": {
      "text/plain": [
       "['longyearbyen',\n",
       " 'taolanaro',\n",
       " 'moussoro',\n",
       " 'thompson',\n",
       " 'hermanus',\n",
       " 'hobart',\n",
       " 'hilo',\n",
       " 'cape town',\n",
       " 'salalah',\n",
       " 'pimentel',\n",
       " 'avon park',\n",
       " 'ushuaia',\n",
       " 'punta arenas',\n",
       " 'alice town',\n",
       " 'castro']"
      ]
     },
     "execution_count": 5,
     "metadata": {},
     "output_type": "execute_result"
    }
   ],
   "source": [
    "cities\n"
   ]
  },
  {
   "cell_type": "code",
   "execution_count": 6,
   "id": "31305222",
   "metadata": {},
   "outputs": [
    {
     "name": "stdout",
     "output_type": "stream",
     "text": [
      "Beginning Data Retrieval     \n",
      "-----------------------------\n"
     ]
    }
   ],
   "source": [
    "#Create an empty list\n",
    "city_data = []\n",
    "\n",
    "#Create URL\n",
    "url = \"http://api.openweathermap.org/data/2.5/weather?units=Imperial&APPID=\" + weather_api_key\n",
    " \n",
    "#Print the begginning of logging\n",
    "print(\"Beginning Data Retrieval     \")\n",
    "print(\"-----------------------------\")\n",
    "\n",
    "#Create Counter\n",
    "record_count = 1\n",
    "set_count = 1\n"
   ]
  },
  {
   "cell_type": "code",
   "execution_count": 7,
   "id": "636aef8d",
   "metadata": {},
   "outputs": [
    {
     "name": "stdout",
     "output_type": "stream",
     "text": [
      "Processing Record 1 of Set 1 | longyearbyen\n",
      "Processing Record 2 of Set 1 | taolanaro\n",
      "City not found. Skipping...\n",
      "Processing Record 3 of Set 1 | moussoro\n",
      "Processing Record 4 of Set 1 | thompson\n",
      "Processing Record 5 of Set 1 | hermanus\n",
      "Processing Record 6 of Set 1 | hobart\n",
      "Processing Record 7 of Set 1 | hilo\n",
      "Processing Record 8 of Set 1 | cape town\n",
      "Processing Record 9 of Set 1 | salalah\n",
      "Processing Record 10 of Set 1 | pimentel\n",
      "Processing Record 11 of Set 1 | avon park\n",
      "Processing Record 12 of Set 1 | ushuaia\n",
      "Processing Record 13 of Set 1 | punta arenas\n",
      "Processing Record 14 of Set 1 | alice town\n",
      "Processing Record 15 of Set 1 | castro\n",
      "-----------------------------\n",
      "Data Retrieval Complete      \n",
      "-----------------------------\n"
     ]
    }
   ],
   "source": [
    "# Loop through all  the cities in our list\n",
    "for i, city in enumerate(cities):\n",
    "    \n",
    "    #Group cities in sets of 50\n",
    "    if (i % 50 == 0 and i >= 50):\n",
    "        set_count += 1\n",
    "        record_count = 1\n",
    "        time.sleep(60)\n",
    "        \n",
    "    #Create endpoint URL with each city\n",
    "    city_url = url + \"&q=\" + city.replace(\" \",\"+\")\n",
    "    \n",
    "    #Log the URL, record and set number and the city\n",
    "    print(f\"Processing Record {record_count} of Set {set_count} | {city}\")\n",
    "    record_count += 1\n",
    "    \n",
    "        #Run an API request for each of the cities\n",
    "    try:\n",
    "        #Parse teh JSON and retreieve data\n",
    "        city_weather = requests.get(city_url).json()\n",
    "\n",
    "        #Parse of the need data\n",
    "        city_lat = city_weather['coord']['lat']\n",
    "        city_lng = city_weather['coord']['lon']\n",
    "        city_max_temp = city_weather['main']['temp_max']\n",
    "        city_humidity = city_weather['main']['humidity']\n",
    "        city_clouds = city_weather['clouds']['all']\n",
    "        city_wind = city_weather['wind']['speed']\n",
    "        city_country = city_weather['sys']['country']\n",
    "\n",
    "        #Convert date to standard\n",
    "        city_date = datetime.utcfromtimestamp(city_weather['dt']).strftime('%Y-%m-%d %H:%M:%S')\n",
    "\n",
    "        #append the city info\n",
    "        city_data.append({\"City\" : city.title(), \n",
    "                         \"Lat\" : city_lat, \n",
    "                         \"Lng\" : city_lng,\n",
    "                         \"Max Temp\" : city_max_temp, \n",
    "                         \"Humidity\" : city_humidity,\n",
    "                         \"Clouds\" : city_clouds,\n",
    "                         \"Wind Speed\" : city_wind,\n",
    "                         \"Country\" : city_country,\n",
    "                         \"Date\" : city_date})\n",
    "\n",
    "    #If an error occurs\n",
    "    except:\n",
    "        print(f\"City not found. Skipping...\")\n",
    "        pass\n",
    "\n",
    "#indicate that the data is loading\n",
    "print(\"-----------------------------\")\n",
    "print(\"Data Retrieval Complete      \")\n",
    "print(\"-----------------------------\")"
   ]
  },
  {
   "cell_type": "code",
   "execution_count": 9,
   "id": "39aec4b7",
   "metadata": {},
   "outputs": [
    {
     "data": {
      "text/plain": [
       "{'coord': {'lon': -50.0119, 'lat': -24.7911},\n",
       " 'weather': [{'id': 803,\n",
       "   'main': 'Clouds',\n",
       "   'description': 'broken clouds',\n",
       "   'icon': '04n'}],\n",
       " 'base': 'stations',\n",
       " 'main': {'temp': 64.72,\n",
       "  'feels_like': 65.5,\n",
       "  'temp_min': 64.72,\n",
       "  'temp_max': 64.72,\n",
       "  'pressure': 1012,\n",
       "  'humidity': 98,\n",
       "  'sea_level': 1012,\n",
       "  'grnd_level': 901},\n",
       " 'visibility': 10000,\n",
       " 'wind': {'speed': 3.78, 'deg': 326, 'gust': 9.69},\n",
       " 'clouds': {'all': 64},\n",
       " 'dt': 1644025035,\n",
       " 'sys': {'country': 'BR', 'sunrise': 1643965156, 'sunset': 1644012519},\n",
       " 'timezone': -10800,\n",
       " 'id': 3466704,\n",
       " 'name': 'Castro',\n",
       " 'cod': 200}"
      ]
     },
     "execution_count": 9,
     "metadata": {},
     "output_type": "execute_result"
    }
   ],
   "source": [
    "city_weather\n"
   ]
  },
  {
   "cell_type": "code",
   "execution_count": 20,
   "id": "02be4351",
   "metadata": {},
   "outputs": [
    {
     "data": {
      "text/plain": [
       "'broken clouds'"
      ]
     },
     "execution_count": 20,
     "metadata": {},
     "output_type": "execute_result"
    }
   ],
   "source": [
    "city_weather[\"weather\"][0][\"description\"]"
   ]
  },
  {
   "cell_type": "code",
   "execution_count": null,
   "id": "4c1d5cbf",
   "metadata": {},
   "outputs": [],
   "source": [
    "city_data_df = pd.DataFrame(city_data)\n",
    "city_data_df"
   ]
  },
  {
   "cell_type": "code",
   "execution_count": null,
   "id": "3ffcb782",
   "metadata": {},
   "outputs": [],
   "source": [
    "#setup new column order\n",
    "new_column_order = [\"City\", \"Country\", \"Date\", \"Lat\", \"Lng\", \"Max Temp\", \"Humidity\", \"Clouds\", \"Wind Speed\"]\n",
    "city_data_df = city_data_df[new_column_order]\n",
    "city_data_df"
   ]
  },
  {
   "cell_type": "code",
   "execution_count": null,
   "id": "cee272fd",
   "metadata": {},
   "outputs": [],
   "source": [
    "#create a csv file\n",
    "output_data_file = \"cities.csv\"\n",
    "\n",
    "#Export city data into a csv\n",
    "city_data_df.to_csv(output_data_file, index_label=\"City_ID\")"
   ]
  },
  {
   "cell_type": "code",
   "execution_count": null,
   "id": "17f5b59b",
   "metadata": {},
   "outputs": [],
   "source": [
    "#Extract releveant info\n",
    "lats = city_data_df[\"Lat\"]\n",
    "max_temps = city_data_df[\"Max Temp\"]\n",
    "humidity = city_data_df[\"Humidity\"]\n",
    "clouds = city_data_df[\"Clouds\"]\n",
    "wind_speed = city_data_df[\"Wind Speed\"]\n",
    "\n"
   ]
  },
  {
   "cell_type": "code",
   "execution_count": null,
   "id": "f59a6d1b",
   "metadata": {},
   "outputs": [],
   "source": [
    "#draw the max temp scatter plot\n",
    "import time\n",
    "\n",
    "plt.scatter(lats, max_temps,\n",
    "            edgecolor = \"black\",\n",
    "            linewidths = 1,\n",
    "            marker = \"o\",\n",
    "            alpha = .8,\n",
    "            label = \"Cities\"\n",
    "           )\n",
    "plt.ylabel(\"Max Temp(F)\")\n",
    "plt.xlabel(\"Latitude\")\n",
    "plt.title(f\"City Latitude vs Max Temp \" + time.strftime(\"%x\"))\n",
    "plt.grid()\n",
    "\n",
    "#Save it\n",
    "plt.savefig(\"Lat_vs_MAxTemp.png\")\n",
    "\n",
    "#shwo it \n",
    "plt.show()"
   ]
  },
  {
   "cell_type": "code",
   "execution_count": null,
   "id": "40eb90d4",
   "metadata": {},
   "outputs": [],
   "source": [
    "#draw the humidity scatter plot\n",
    "\n",
    "\n",
    "plt.scatter(lats, humidity,\n",
    "            edgecolor = \"black\",\n",
    "            linewidths = 1,\n",
    "            marker = \"o\",\n",
    "            alpha = .8,\n",
    "            label = \"Cities\"\n",
    "           )\n",
    "plt.ylabel(\"Humidity\")\n",
    "plt.xlabel(\"Latitude\")\n",
    "plt.title(f\"City Latitude vs Humidity \" + time.strftime(\"%x\"))\n",
    "plt.grid()\n",
    "\n",
    "#Save it\n",
    "plt.savefig(\"Lat_vs_Humidity.png\")\n",
    "\n",
    "#shwo it \n",
    "plt.show()"
   ]
  },
  {
   "cell_type": "code",
   "execution_count": null,
   "id": "f795f63c",
   "metadata": {},
   "outputs": [],
   "source": [
    "#draw the clousiness scatter plot\n",
    "\n",
    "\n",
    "plt.scatter(lats, clouds,\n",
    "            edgecolor = \"black\",\n",
    "            linewidths = 1,\n",
    "            marker = \"o\",\n",
    "            alpha = .8,\n",
    "            label = \"Cities\"\n",
    "           )\n",
    "plt.ylabel(\"Cloudiness (%)\")\n",
    "plt.xlabel(\"Latitude\")\n",
    "plt.title(f\"City Latitude vs Cloudiness (%) \" + time.strftime(\"%x\"))\n",
    "plt.grid()\n",
    "\n",
    "#Save it\n",
    "plt.savefig(\"Lat_vs_Cloudiness.png\")\n",
    "\n",
    "#shwo it \n",
    "plt.show()"
   ]
  },
  {
   "cell_type": "code",
   "execution_count": null,
   "id": "c22606de",
   "metadata": {},
   "outputs": [],
   "source": [
    "#draw the wind speed scatter plot\n",
    "\n",
    "\n",
    "plt.scatter(lats, wind_speed,\n",
    "            edgecolor = \"black\",\n",
    "            linewidths = 1,\n",
    "            marker = \"o\",\n",
    "            alpha = .8,\n",
    "            label = \"Cities\"\n",
    "           )\n",
    "plt.ylabel(\"Wind Speed (mph)\")\n",
    "plt.xlabel(\"Latitude\")\n",
    "plt.title(f\"City Latitude vs Wind Speed \" + time.strftime(\"%x\"))\n",
    "plt.grid()\n",
    "\n",
    "#Save it\n",
    "plt.savefig(\"Lat_vs_Wind_Speed.png\")\n",
    "\n",
    "#shwo it \n",
    "plt.show()"
   ]
  },
  {
   "cell_type": "code",
   "execution_count": null,
   "id": "45ad2d66",
   "metadata": {},
   "outputs": [],
   "source": [
    "#Import linregress \n",
    "from scipy.stats import linregress\n",
    "\n",
    "#Create a function to create perform linear regression on the weather data\n",
    "#and plot line and equation with the data\n",
    "def plot_linear_regression(x_values, y_values, title, y_label, text_coordinates):\n",
    "    \n",
    "    #run regression on hemisphere data\n",
    "    (slope, intercept, r_value, p_value, std_err) = linregress(x_values, y_values)\n",
    "    \n",
    "    #Calculate the regression \"y values\" \n",
    "    regress_values = x_values * slope + intercept\n",
    "    \n",
    "    #Get equation of the line\n",
    "    line_eq = \"y = \" + str(round(slope,2)) + \"x + \" + str(round(intercept,2))\n",
    "    \n",
    "    #Create Scatter plot and  plot regress line\n",
    "    plt.scatter(x_values, y_values)\n",
    "    plt.plot(x_values, regress_values, \"r\")\n",
    "    \n",
    "    #Annotate the text \n",
    "    plt.annotate(line_eq, text_coordinates, fontsize=15, color=\"red\")\n",
    "    plt.title(title)\n",
    "    plt.xlabel(\"Latitude\")\n",
    "    plt.ylabel(y_label)\n",
    "    plt.show()\n",
    "    print(f\"r-value is {r_value}\")"
   ]
  },
  {
   "cell_type": "code",
   "execution_count": null,
   "id": "223f7c33",
   "metadata": {},
   "outputs": [],
   "source": [
    "#Create north/south hemkisphere data\n",
    "northern_hemi_df = city_data_df.loc[(city_data_df['Lat'] >= 0)]\n",
    "southern_hemi_df = city_data_df.loc[(city_data_df['Lat'] < 0)]\n"
   ]
  },
  {
   "cell_type": "code",
   "execution_count": null,
   "id": "a4dd10f1",
   "metadata": {},
   "outputs": [],
   "source": [
    "#Linear regression northern hemi lat vs max temp\n",
    "x_values = northern_hemi_df['Lat']\n",
    "y_values = northern_hemi_df['Max Temp']\n",
    "\n",
    "plot_linear_regression(x_values, y_values, \"Linear Regression on Northern Hemispehere \\n for Max Temperature\", \"Max Temp\", (10,-40))"
   ]
  },
  {
   "cell_type": "code",
   "execution_count": null,
   "id": "cbe200d8",
   "metadata": {},
   "outputs": [],
   "source": [
    "#Linear regression southern hemi lat vs max temp\n",
    "x_values = southern_hemi_df['Lat']\n",
    "y_values = southern_hemi_df['Max Temp']\n",
    "\n",
    "plot_linear_regression(x_values, y_values, \"Linear Regression on Southern Hemispehere \\n for Max Temperature\", \"Max Temp\", (-40,45\n",
    "                                                                                                                        ))"
   ]
  },
  {
   "cell_type": "code",
   "execution_count": null,
   "id": "51534d60",
   "metadata": {},
   "outputs": [],
   "source": [
    "#Linear regression northern hemi lat vs humidity\n",
    "x_values = northern_hemi_df['Lat']\n",
    "y_values = northern_hemi_df['Humidity']\n",
    "\n",
    "plot_linear_regression(x_values, y_values, \"Linear Regression on Northern Hemispehere \\n for % Humidity\", \"% Humidity\", (40,0))"
   ]
  },
  {
   "cell_type": "code",
   "execution_count": null,
   "id": "515c2018",
   "metadata": {},
   "outputs": [],
   "source": [
    "#Linear regression southern hemi lat vs humidity\n",
    "x_values = southern_hemi_df['Lat']\n",
    "y_values = southern_hemi_df['Humidity']\n",
    "\n",
    "plot_linear_regression(x_values, y_values, \"Linear Regression on Southern Hemispehere \\n for % Humidity\", \"% Humidity\", (-57,13))\n"
   ]
  },
  {
   "cell_type": "code",
   "execution_count": null,
   "id": "6a499aff",
   "metadata": {},
   "outputs": [],
   "source": [
    "#Linear regression northern hemi lat vs cloudiness\n",
    "x_values = northern_hemi_df['Lat']\n",
    "y_values = northern_hemi_df['Clouds']\n",
    "\n",
    "plot_linear_regression(x_values, y_values, \"Linear Regression on Northern Hemispehere \\n for % Cloudiness\", \"% Cloudiness\", (40,0))"
   ]
  },
  {
   "cell_type": "code",
   "execution_count": null,
   "id": "546a1fc9",
   "metadata": {},
   "outputs": [],
   "source": [
    "#Linear regression southern hemi lat vs cloudiness\n",
    "x_values = southern_hemi_df['Lat']\n",
    "y_values = southern_hemi_df['Clouds']\n",
    "\n",
    "plot_linear_regression(x_values, y_values, \"Linear Regression on Southern Hemispehere \\n for % Cloudiness\", \"% Cloudiness\", (-55,22))"
   ]
  },
  {
   "cell_type": "code",
   "execution_count": null,
   "id": "0d58a3af",
   "metadata": {},
   "outputs": [],
   "source": [
    "#Linear regression northern hemi lat vs Wind Speed\n",
    "x_values = northern_hemi_df['Lat']\n",
    "y_values = northern_hemi_df['Wind Speed']\n",
    "\n",
    "plot_linear_regression(x_values, y_values, \"Linear Regression on Northern Hemispehere \\n for Wind Speed\", \"Wind Speed\", (0,40))"
   ]
  },
  {
   "cell_type": "code",
   "execution_count": null,
   "id": "4869b922",
   "metadata": {},
   "outputs": [],
   "source": [
    "#Linear regression southern hemi lat vs Wind Speed\n",
    "x_values = southern_hemi_df['Lat']\n",
    "y_values = southern_hemi_df['Wind Speed']\n",
    "\n",
    "plot_linear_regression(x_values, y_values, \"Linear Regression on Southern Hemispehere \\n for Wind Speed\", \"Wind Speed\", (-55,30))"
   ]
  },
  {
   "cell_type": "code",
   "execution_count": null,
   "id": "c348d96a",
   "metadata": {},
   "outputs": [],
   "source": []
  }
 ],
 "metadata": {
  "kernelspec": {
   "display_name": "PythonData",
   "language": "python",
   "name": "pythondata"
  },
  "language_info": {
   "codemirror_mode": {
    "name": "ipython",
    "version": 3
   },
   "file_extension": ".py",
   "mimetype": "text/x-python",
   "name": "python",
   "nbconvert_exporter": "python",
   "pygments_lexer": "ipython3",
   "version": "3.7.11"
  }
 },
 "nbformat": 4,
 "nbformat_minor": 5
}
